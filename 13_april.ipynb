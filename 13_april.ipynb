{
 "cells": [
  {
   "cell_type": "markdown",
   "id": "bd9df9c8-4fa9-4465-b3b8-090da5e3d122",
   "metadata": {},
   "source": [
    "Q1. What is Random Forest Regressor?"
   ]
  },
  {
   "cell_type": "markdown",
   "id": "9e98b684-6674-4dcf-b885-0586408a6d4c",
   "metadata": {},
   "source": [
    "Random forest regression is a supervised learning algorithm and bagging technique that uses an ensemble learning method for regression in machine learning. The trees in random forests run in parallel, meaning there is no interaction between these trees while building the trees."
   ]
  },
  {
   "cell_type": "markdown",
   "id": "e7a0aeae-6421-42ea-864f-5409bf62b4a6",
   "metadata": {},
   "source": [
    "Q2. How does Random Forest Regressor reduce the risk of overfitting?"
   ]
  },
  {
   "cell_type": "markdown",
   "id": "736174af-32f8-4404-b88b-fc3ccdc5ea7e",
   "metadata": {},
   "source": [
    "Random forests excel in mitigating overfitting due to the following reasons: Ensemble Learning: Random forests combine multiple decision trees, each trained on a different subset of the data, to make predictions. By aggregating the predictions of individual trees, random forests reduce the risk of overfitting."
   ]
  },
  {
   "cell_type": "markdown",
   "id": "d4d7b02f-75fe-49ce-8801-43081a4041b3",
   "metadata": {},
   "source": [
    "Q3. How does Random Forest Regressor aggregate the predictions of multiple decision trees?"
   ]
  },
  {
   "cell_type": "markdown",
   "id": "975b00e4-6a05-4318-af1f-77bb055dd0e4",
   "metadata": {},
   "source": [
    "A random forest is a meta-estimator (i.e. it combines the result of multiple predictions), which aggregates many decision trees with some helpful modifications: The number of features that can be split at each node is limited to some percentage of the total (which is known as the hyper-parameter)"
   ]
  },
  {
   "cell_type": "markdown",
   "id": "b708896f-61aa-4c69-a07a-c2ff209b6dee",
   "metadata": {},
   "source": [
    "Q4. What are the hyperparameters of Random Forest Regressor?"
   ]
  },
  {
   "cell_type": "markdown",
   "id": "9656a660-af06-4e4c-8c35-ebebcffb71ac",
   "metadata": {},
   "source": [
    "Random Forest hyperparameter tuning involves adjusting parameters such as the number of trees in the forest, the depth of the trees, and the number of features considered for splitting at each leaf node to optimize the algorithm's performance"
   ]
  },
  {
   "cell_type": "markdown",
   "id": "38382cd6-8d69-4b67-bf47-7b56248599a7",
   "metadata": {},
   "source": [
    "Q5. What is the difference between Random Forest Regressor and Decision Tree Regressor?"
   ]
  },
  {
   "cell_type": "markdown",
   "id": "1bcb71e3-05a1-4a7f-a82c-8fd8811c6d0f",
   "metadata": {},
   "source": [
    "The random forest has complex visualization and accurate predictions, but the decision tree has simple visualization and less accurate predictions. The advantages of Random Forest are that it prevents overfitting and is more accurate in predictions"
   ]
  },
  {
   "cell_type": "markdown",
   "id": "f625983c-2db2-409b-82f3-227cb0202de3",
   "metadata": {},
   "source": [
    "Q6. What are the advantages and disadvantages of Random Forest Regressor?"
   ]
  },
  {
   "cell_type": "markdown",
   "id": "fec00bff-987b-44c3-a359-7eb90e067ce0",
   "metadata": {},
   "source": [
    "Advantages:-\n",
    "Random forest regression is an invaluable tool in data science. It enables us to make accurate predictions and analyze complex datasets with the help of a powerful machine-learning algorithm. A Random forest regression model combines multiple decision trees to create a single model.\n",
    "\n",
    "Disadvantages:-\n",
    "Random forest is highly complex compared to decision trees, where decisions can be made by following the path of the tree. Training time is more than other models due to its complexity. Whenever it has to make a prediction, each decision tree has to generate output for the given input data."
   ]
  },
  {
   "cell_type": "code",
   "execution_count": null,
   "id": "a259d84f-7e1e-4d4d-8f88-66b6fce4f335",
   "metadata": {},
   "outputs": [],
   "source": [
    "Q7. What is the output of Random Forest Regressor?"
   ]
  },
  {
   "cell_type": "markdown",
   "id": "3ad9db2a-7e4e-4815-a6ce-b8f436944eb5",
   "metadata": {},
   "source": [
    "Random forest regression is a supervised learning algorithm that uses an ensemble learning method for regression.\n",
    "\n",
    "Random forest is a bagging technique and not a boosting technique. The trees in random forests run in parallel, meaning there is no interaction between these trees while building the trees."
   ]
  }
 ],
 "metadata": {
  "kernelspec": {
   "display_name": "Python 3 (ipykernel)",
   "language": "python",
   "name": "python3"
  },
  "language_info": {
   "codemirror_mode": {
    "name": "ipython",
    "version": 3
   },
   "file_extension": ".py",
   "mimetype": "text/x-python",
   "name": "python",
   "nbconvert_exporter": "python",
   "pygments_lexer": "ipython3",
   "version": "3.10.8"
  }
 },
 "nbformat": 4,
 "nbformat_minor": 5
}
